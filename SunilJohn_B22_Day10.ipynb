{
 "cells": [
  {
   "cell_type": "code",
   "execution_count": null,
   "metadata": {},
   "outputs": [],
   "source": [
    "#Finding the odd or even number:"
   ]
  },
  {
   "cell_type": "code",
   "execution_count": null,
   "metadata": {},
   "outputs": [],
   "source": [
    "#Deviser, quotient & remainder"
   ]
  },
  {
   "cell_type": "code",
   "execution_count": 2,
   "metadata": {},
   "outputs": [
    {
     "name": "stdout",
     "output_type": "stream",
     "text": [
      "Enter a number, and i will tell you whether its even or odd!7\n",
      "\n",
      "The input value 7 is odd.\n"
     ]
    }
   ],
   "source": [
    "number=input(\"Enter a number, and i will tell you whether its even or odd!\")\n",
    "number=int(number)#typecasting\n",
    "\n",
    "if number %2==0:\n",
    "    print(f\"\\nThe input value {number} is even.\")\n",
    "else:\n",
    "    print(f\"\\nThe input value {number} is odd.\")"
   ]
  },
  {
   "cell_type": "code",
   "execution_count": 4,
   "metadata": {},
   "outputs": [
    {
     "name": "stdout",
     "output_type": "stream",
     "text": [
      "Enter a number, and i will tell you whether its even or odd!78\n",
      "\n",
      "The input value 78 is even.\n"
     ]
    }
   ],
   "source": [
    "number=input(\"Enter a number, and i will tell you whether its even or odd!\")\n",
    "number=int(number)#typecasting\n",
    "\n",
    "if number %2==0:\n",
    "    print(f\"\\nThe input value {number} is even.\")\n",
    "else:\n",
    "    print(f\"\\nThe input value {number} is odd.\")"
   ]
  },
  {
   "cell_type": "code",
   "execution_count": null,
   "metadata": {},
   "outputs": [],
   "source": []
  },
  {
   "cell_type": "code",
   "execution_count": null,
   "metadata": {},
   "outputs": [],
   "source": [
    "#introduction to while loops:\n",
    "while loop only executes if teh condition is true."
   ]
  },
  {
   "cell_type": "code",
   "execution_count": 5,
   "metadata": {},
   "outputs": [
    {
     "name": "stdout",
     "output_type": "stream",
     "text": [
      "1\n",
      "2\n",
      "3\n",
      "4\n",
      "5\n"
     ]
    }
   ],
   "source": [
    "current_num=1 #declaration of a variable #iteration\n",
    "while current_num <=5: #condition statement\n",
    "    print(current_num) #print statement\n",
    "    current_num +=1 # logic current_num= current_num +1===2"
   ]
  },
  {
   "cell_type": "code",
   "execution_count": 6,
   "metadata": {},
   "outputs": [
    {
     "name": "stdout",
     "output_type": "stream",
     "text": [
      "3\n",
      "4\n",
      "5\n",
      "6\n",
      "7\n"
     ]
    }
   ],
   "source": [
    "current_num=3 #declaration of a variable #iteration\n",
    "while current_num <=7:\n",
    "    print(current_num)\n",
    "    current_num +=1 "
   ]
  },
  {
   "cell_type": "code",
   "execution_count": 8,
   "metadata": {},
   "outputs": [
    {
     "name": "stdout",
     "output_type": "stream",
     "text": [
      "3\n",
      "5\n",
      "7\n",
      "9\n"
     ]
    }
   ],
   "source": [
    "current_num=3 #declaration of a variable #iteration\n",
    "while current_num <=10:\n",
    "    print(current_num)\n",
    "    current_num +=2 "
   ]
  },
  {
   "cell_type": "code",
   "execution_count": 11,
   "metadata": {},
   "outputs": [
    {
     "name": "stdout",
     "output_type": "stream",
     "text": [
      "9\n",
      "18\n",
      "27\n",
      "36\n",
      "45\n",
      "54\n",
      "63\n",
      "72\n",
      "81\n",
      "90\n",
      "99\n"
     ]
    }
   ],
   "source": [
    "current_num=9 #declaration of a variable #iteration\n",
    "while current_num <=100:\n",
    "    print(current_num)\n",
    "    current_num +=9 "
   ]
  },
  {
   "cell_type": "code",
   "execution_count": 10,
   "metadata": {},
   "outputs": [
    {
     "name": "stdout",
     "output_type": "stream",
     "text": [
      "2\n",
      "4\n",
      "8\n",
      "16\n",
      "32\n",
      "64\n",
      "128\n",
      "256\n",
      "512\n",
      "1024\n",
      "2048\n",
      "4096\n",
      "8192\n"
     ]
    }
   ],
   "source": [
    "current_num=2 #declaration of a variable #iteration\n",
    "while current_num <=10000: \n",
    "    print(current_num) \n",
    "    current_num *=2"
   ]
  },
  {
   "cell_type": "code",
   "execution_count": 12,
   "metadata": {},
   "outputs": [
    {
     "name": "stdout",
     "output_type": "stream",
     "text": [
      "3\n",
      "9\n",
      "27\n",
      "81\n",
      "243\n",
      "729\n",
      "2187\n",
      "6561\n"
     ]
    }
   ],
   "source": [
    "current_num=3 #declaration of a variable #iteration\n",
    "while current_num <=10000: \n",
    "    print(current_num) \n",
    "    current_num *=3"
   ]
  },
  {
   "cell_type": "code",
   "execution_count": null,
   "metadata": {},
   "outputs": [],
   "source": []
  },
  {
   "cell_type": "code",
   "execution_count": null,
   "metadata": {},
   "outputs": [],
   "source": [
    "#for loop vs while loop ***\n",
    "\n",
    "##for loop will be applied to each and every elements in the variable,\n",
    "##that has been assighned to it.**\n",
    "##while loop will be dependent on the conditional statements that has been\n",
    "##given to it.**"
   ]
  },
  {
   "cell_type": "code",
   "execution_count": 2,
   "metadata": {},
   "outputs": [
    {
     "name": "stdout",
     "output_type": "stream",
     "text": [
      "1\n",
      "2\n",
      "3\n",
      "4\n",
      "5\n",
      "6\n",
      "7\n",
      "8\n",
      "9\n",
      "10\n"
     ]
    }
   ],
   "source": [
    "current_num=1 #declaration of a variable #iteration\n",
    "while current_num <=10: # condition statements\n",
    "    print(current_num) # print statements\n",
    "    current_num +=1"
   ]
  },
  {
   "cell_type": "code",
   "execution_count": 3,
   "metadata": {},
   "outputs": [
    {
     "data": {
      "text/plain": [
       "int"
      ]
     },
     "execution_count": 3,
     "metadata": {},
     "output_type": "execute_result"
    }
   ],
   "source": [
    "type(current_num)"
   ]
  },
  {
   "cell_type": "code",
   "execution_count": 4,
   "metadata": {},
   "outputs": [
    {
     "name": "stdout",
     "output_type": "stream",
     "text": [
      "1\n",
      "3\n",
      "5\n",
      "7\n",
      "9\n"
     ]
    }
   ],
   "source": [
    "current_num=1 #declaration of a variable #iteration\n",
    "while current_num <=10: # condition statements\n",
    "    print(current_num) # print statements\n",
    "    current_num +=2"
   ]
  },
  {
   "cell_type": "code",
   "execution_count": null,
   "metadata": {},
   "outputs": [],
   "source": [
    "#Understanding Break and Continue keys words"
   ]
  },
  {
   "cell_type": "code",
   "execution_count": 1,
   "metadata": {},
   "outputs": [],
   "source": [
    "prompt=\"\\nPlease enter the city you have visited.\"\n",
    "prompt+=\"\\nEnter 'quit' you have finished.\""
   ]
  },
  {
   "cell_type": "code",
   "execution_count": 2,
   "metadata": {},
   "outputs": [
    {
     "name": "stdout",
     "output_type": "stream",
     "text": [
      "\n",
      "Please enter the city you have visited.\n",
      "Enter 'quit' you have finished.Bangalore\n",
      " I would like to visit Bangalore again.\n",
      "\n",
      "Please enter the city you have visited.\n",
      "Enter 'quit' you have finished.London\n",
      " I would like to visit London again.\n",
      "\n",
      "Please enter the city you have visited.\n",
      "Enter 'quit' you have finished.quit\n"
     ]
    }
   ],
   "source": [
    "while True:\n",
    "    city=input(prompt)\n",
    "    \n",
    "    if city ==\"quit\":\n",
    "        break\n",
    "    else:\n",
    "        print(f\" I would like to visit {city.title()} again.\")\n",
    "        \n",
    "    "
   ]
  },
  {
   "cell_type": "code",
   "execution_count": 3,
   "metadata": {},
   "outputs": [
    {
     "name": "stdout",
     "output_type": "stream",
     "text": [
      "\n",
      "Please enter the city you have visited.\n",
      "Enter 'quit' you have finished.Cochin\n",
      " I would like to visit Cochin again.\n",
      "\n",
      "Please enter the city you have visited.\n",
      "Enter 'quit' you have finished.Dubai\n",
      " I would like to visit Dubai again.\n",
      "\n",
      "Please enter the city you have visited.\n",
      "Enter 'quit' you have finished.London\n",
      " I would like to visit London again.\n",
      "\n",
      "Please enter the city you have visited.\n",
      "Enter 'quit' you have finished.quit\n",
      "\n",
      "Please enter the city you have visited.\n",
      "Enter 'quit' you have finished.Chennai\n",
      " I would like to visit Chennai again.\n",
      "\n",
      "Please enter the city you have visited.\n",
      "Enter 'quit' you have finished.quit\n",
      "\n",
      "Please enter the city you have visited.\n",
      "Enter 'quit' you have finished.stop\n"
     ]
    }
   ],
   "source": [
    "while True:\n",
    "    city=input(prompt)\n",
    "    \n",
    "    if city ==\"quit\":\n",
    "        continue\n",
    "    if city ==\"stop\":\n",
    "        break\n",
    "    else:\n",
    "        print(f\" I would like to visit {city.title()} again.\")\n",
    "        "
   ]
  },
  {
   "cell_type": "code",
   "execution_count": null,
   "metadata": {},
   "outputs": [],
   "source": []
  }
 ],
 "metadata": {
  "kernelspec": {
   "display_name": "Python 3",
   "language": "python",
   "name": "python3"
  },
  "language_info": {
   "codemirror_mode": {
    "name": "ipython",
    "version": 3
   },
   "file_extension": ".py",
   "mimetype": "text/x-python",
   "name": "python",
   "nbconvert_exporter": "python",
   "pygments_lexer": "ipython3",
   "version": "3.7.6"
  }
 },
 "nbformat": 4,
 "nbformat_minor": 4
}
