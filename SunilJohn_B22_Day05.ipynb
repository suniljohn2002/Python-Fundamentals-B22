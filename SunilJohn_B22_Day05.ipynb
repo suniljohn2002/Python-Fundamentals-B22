{
 "cells": [
  {
   "cell_type": "code",
   "execution_count": 2,
   "metadata": {},
   "outputs": [],
   "source": [
    "introduction to for loops :"
   ]
  },
  {
   "cell_type": "code",
   "execution_count": null,
   "metadata": {},
   "outputs": [],
   "source": []
  },
  {
   "cell_type": "code",
   "execution_count": 43,
   "metadata": {},
   "outputs": [],
   "source": [
    "Bank_customers=['sunil','kiran','john','ravi','usha','tina','ajay'] # 7 Federal bank customers.."
   ]
  },
  {
   "cell_type": "code",
   "execution_count": null,
   "metadata": {},
   "outputs": [],
   "source": [
    "# : Greeting the customers --- !\n",
    "Federal Bank wishes you a very happy new year, sunil..."
   ]
  },
  {
   "cell_type": "code",
   "execution_count": null,
   "metadata": {},
   "outputs": [],
   "source": [
    "#regular way :"
   ]
  },
  {
   "cell_type": "code",
   "execution_count": 5,
   "metadata": {},
   "outputs": [
    {
     "name": "stdout",
     "output_type": "stream",
     "text": [
      "Federal Bank wishes you a very happy new year, Sunil\n"
     ]
    }
   ],
   "source": [
    "print(f\"Federal Bank wishes you a very happy new year, {Bank_customers[0].title()}\")"
   ]
  },
  {
   "cell_type": "code",
   "execution_count": 6,
   "metadata": {},
   "outputs": [
    {
     "name": "stdout",
     "output_type": "stream",
     "text": [
      "Federal Bank wishes you a very happy new year, Kiran\n"
     ]
    }
   ],
   "source": [
    "print(f\"Federal Bank wishes you a very happy new year, {Bank_customers[1].title()}\")"
   ]
  },
  {
   "cell_type": "code",
   "execution_count": null,
   "metadata": {},
   "outputs": [],
   "source": [
    "# to automate the solution"
   ]
  },
  {
   "cell_type": "code",
   "execution_count": 24,
   "metadata": {},
   "outputs": [
    {
     "name": "stdout",
     "output_type": "stream",
     "text": [
      "Federal Bank wishes you a very happy new year, sunil\n",
      "Federal Bank wishes you a very happy new year, kiran\n",
      "Federal Bank wishes you a very happy new year, john\n",
      "Federal Bank wishes you a very happy new year, ravi\n",
      "Federal Bank wishes you a very happy new year, usha\n",
      "Federal Bank wishes you a very happy new year, tina\n",
      "Federal Bank wishes you a very happy new year, ajay\n"
     ]
    }
   ],
   "source": [
    "for customers in Bank_customers:\n",
    "    print(f\"Federal Bank wishes you a very happy new year, {customers}\") #tempvar:"
   ]
  },
  {
   "cell_type": "code",
   "execution_count": null,
   "metadata": {},
   "outputs": [],
   "source": [
    "#general syntax for a long loop:\n",
    "for tempvar in mainvar: #identification\n",
    "    print(tempvar)"
   ]
  },
  {
   "cell_type": "code",
   "execution_count": 25,
   "metadata": {},
   "outputs": [
    {
     "name": "stdout",
     "output_type": "stream",
     "text": [
      "Federal Bank wishes you a very happy new year, sunil\n",
      "Federal Bank wishes you a very happy new year, kiran\n",
      "Federal Bank wishes you a very happy new year, john\n",
      "Federal Bank wishes you a very happy new year, ravi\n",
      "Federal Bank wishes you a very happy new year, usha\n",
      "Federal Bank wishes you a very happy new year, tina\n",
      "Federal Bank wishes you a very happy new year, ajay\n"
     ]
    }
   ],
   "source": [
    "for batman in Bank_customers:\n",
    "    print(f\"Federal Bank wishes you a very happy new year, {batman}\")"
   ]
  },
  {
   "cell_type": "code",
   "execution_count": 26,
   "metadata": {},
   "outputs": [
    {
     "ename": "NameError",
     "evalue": "name 'mainvar' is not defined",
     "output_type": "error",
     "traceback": [
      "\u001b[1;31m---------------------------------------------------------------------------\u001b[0m",
      "\u001b[1;31mNameError\u001b[0m                                 Traceback (most recent call last)",
      "\u001b[1;32m<ipython-input-26-79cff90acbb9>\u001b[0m in \u001b[0;36m<module>\u001b[1;34m\u001b[0m\n\u001b[1;32m----> 1\u001b[1;33m \u001b[1;32mfor\u001b[0m \u001b[0mtempvar\u001b[0m \u001b[1;32min\u001b[0m \u001b[0mmainvar\u001b[0m\u001b[1;33m:\u001b[0m\u001b[1;33m\u001b[0m\u001b[1;33m\u001b[0m\u001b[0m\n\u001b[0m\u001b[0;32m      2\u001b[0m     \u001b[0mprint\u001b[0m\u001b[1;33m(\u001b[0m\u001b[0mtempvar\u001b[0m\u001b[1;33m)\u001b[0m\u001b[1;33m\u001b[0m\u001b[1;33m\u001b[0m\u001b[0m\n",
      "\u001b[1;31mNameError\u001b[0m: name 'mainvar' is not defined"
     ]
    }
   ],
   "source": [
    "for tempvar in mainvar:\n",
    "    print(tempvar)"
   ]
  },
  {
   "cell_type": "code",
   "execution_count": 27,
   "metadata": {},
   "outputs": [
    {
     "name": "stdout",
     "output_type": "stream",
     "text": [
      "Federal Bank wishes you a very happy new year, sunil\n",
      "Federal Bank wishes you a very happy new year, kiran\n",
      "Federal Bank wishes you a very happy new year, john\n",
      "Federal Bank wishes you a very happy new year, ravi\n",
      "Federal Bank wishes you a very happy new year, usha\n",
      "Federal Bank wishes you a very happy new year, tina\n",
      "Federal Bank wishes you a very happy new year, ajay\n"
     ]
    }
   ],
   "source": [
    "for x in Bank_customers:\n",
    "    print(f\"Federal Bank wishes you a very happy new year, {x}\")"
   ]
  },
  {
   "cell_type": "code",
   "execution_count": null,
   "metadata": {},
   "outputs": [],
   "source": []
  },
  {
   "cell_type": "code",
   "execution_count": 28,
   "metadata": {},
   "outputs": [],
   "source": [
    "my_students=['mani','nirmal','tuttu','sania','deepu','annu']"
   ]
  },
  {
   "cell_type": "code",
   "execution_count": null,
   "metadata": {},
   "outputs": [],
   "source": [
    "# req: to appreciate students."
   ]
  },
  {
   "cell_type": "code",
   "execution_count": 30,
   "metadata": {},
   "outputs": [
    {
     "name": "stdout",
     "output_type": "stream",
     "text": [
      "mani\n",
      "nirmal\n",
      "tuttu\n",
      "sania\n",
      "deepu\n",
      "annu\n"
     ]
    }
   ],
   "source": [
    "for student in my_students:\n",
    "    print(student)"
   ]
  },
  {
   "cell_type": "code",
   "execution_count": 35,
   "metadata": {},
   "outputs": [
    {
     "name": "stdout",
     "output_type": "stream",
     "text": [
      "keep up the good work, Mani\n",
      "keep up the good work, Nirmal\n",
      "keep up the good work, Tuttu\n",
      "keep up the good work, Sania\n",
      "keep up the good work, Deepu\n",
      "keep up the good work, Annu\n"
     ]
    }
   ],
   "source": [
    "for student in my_students:\n",
    "    print(f\"keep up the good work, {student.title()}\")"
   ]
  },
  {
   "cell_type": "code",
   "execution_count": 36,
   "metadata": {},
   "outputs": [
    {
     "name": "stdout",
     "output_type": "stream",
     "text": [
      "keep up the good work, Mani\n",
      "keep up the good work, Nirmal\n",
      "keep up the good work, Tuttu\n",
      "keep up the good work, Sania\n",
      "keep up the good work, Deepu\n",
      "keep up the good work, Annu\n"
     ]
    }
   ],
   "source": [
    "for y in my_students:\n",
    "    print(f\"keep up the good work, {y.title()}\")"
   ]
  },
  {
   "cell_type": "code",
   "execution_count": null,
   "metadata": {},
   "outputs": [],
   "source": [
    "# add req: Im waiting for todays practice file."
   ]
  },
  {
   "cell_type": "code",
   "execution_count": 37,
   "metadata": {},
   "outputs": [
    {
     "name": "stdout",
     "output_type": "stream",
     "text": [
      "keep up the good work, Mani\n",
      "Im waiting for todays practice file. mani\n",
      "keep up the good work, Nirmal\n",
      "Im waiting for todays practice file. nirmal\n",
      "keep up the good work, Tuttu\n",
      "Im waiting for todays practice file. tuttu\n",
      "keep up the good work, Sania\n",
      "Im waiting for todays practice file. sania\n",
      "keep up the good work, Deepu\n",
      "Im waiting for todays practice file. deepu\n",
      "keep up the good work, Annu\n",
      "Im waiting for todays practice file. annu\n"
     ]
    }
   ],
   "source": [
    "for y in my_students:\n",
    "    print(f\"keep up the good work, {y.title()}\")\n",
    "    print(f\"Im waiting for todays practice file. {y}\")"
   ]
  },
  {
   "cell_type": "code",
   "execution_count": null,
   "metadata": {},
   "outputs": [],
   "source": [
    "# enhancement in the code."
   ]
  },
  {
   "cell_type": "code",
   "execution_count": 38,
   "metadata": {
    "scrolled": true
   },
   "outputs": [
    {
     "name": "stdout",
     "output_type": "stream",
     "text": [
      "keep up the good work, Mani\n",
      "Im waiting for todays practice file. mani.\n",
      "\n",
      "keep up the good work, Nirmal\n",
      "Im waiting for todays practice file. nirmal.\n",
      "\n",
      "keep up the good work, Tuttu\n",
      "Im waiting for todays practice file. tuttu.\n",
      "\n",
      "keep up the good work, Sania\n",
      "Im waiting for todays practice file. sania.\n",
      "\n",
      "keep up the good work, Deepu\n",
      "Im waiting for todays practice file. deepu.\n",
      "\n",
      "keep up the good work, Annu\n",
      "Im waiting for todays practice file. annu.\n",
      "\n"
     ]
    }
   ],
   "source": [
    "for y in my_students:\n",
    "    print(f\"keep up the good work, {y.title()}\")\n",
    "    print(f\"Im waiting for todays practice file. {y}.\\n\")"
   ]
  },
  {
   "cell_type": "code",
   "execution_count": 41,
   "metadata": {},
   "outputs": [
    {
     "name": "stdout",
     "output_type": "stream",
     "text": [
      "keep up the good work, Mani\n",
      "Im waiting for todays practice file. mani.\n",
      "\n",
      "Thank you all for joining todays Python Training session!\n",
      "keep up the good work, Nirmal\n",
      "Im waiting for todays practice file. nirmal.\n",
      "\n",
      "Thank you all for joining todays Python Training session!\n",
      "keep up the good work, Tuttu\n",
      "Im waiting for todays practice file. tuttu.\n",
      "\n",
      "Thank you all for joining todays Python Training session!\n",
      "keep up the good work, Sania\n",
      "Im waiting for todays practice file. sania.\n",
      "\n",
      "Thank you all for joining todays Python Training session!\n",
      "keep up the good work, Deepu\n",
      "Im waiting for todays practice file. deepu.\n",
      "\n",
      "Thank you all for joining todays Python Training session!\n",
      "keep up the good work, Annu\n",
      "Im waiting for todays practice file. annu.\n",
      "\n",
      "Thank you all for joining todays Python Training session!\n"
     ]
    }
   ],
   "source": [
    "for y in my_students:\n",
    "    print(f\"keep up the good work, {y.title()}\")\n",
    "    print(f\"Im waiting for todays practice file. {y}.\\n\")\n",
    "    print('Thank you all for joining todays Python Training session!')  #  wrong "
   ]
  },
  {
   "cell_type": "code",
   "execution_count": 42,
   "metadata": {},
   "outputs": [
    {
     "name": "stdout",
     "output_type": "stream",
     "text": [
      "keep up the good work, Mani\n",
      "Im waiting for todays practice file. mani.\n",
      "\n",
      "keep up the good work, Nirmal\n",
      "Im waiting for todays practice file. nirmal.\n",
      "\n",
      "keep up the good work, Tuttu\n",
      "Im waiting for todays practice file. tuttu.\n",
      "\n",
      "keep up the good work, Sania\n",
      "Im waiting for todays practice file. sania.\n",
      "\n",
      "keep up the good work, Deepu\n",
      "Im waiting for todays practice file. deepu.\n",
      "\n",
      "keep up the good work, Annu\n",
      "Im waiting for todays practice file. annu.\n",
      "\n",
      "Thank you all for joining todays Python Training session!\n"
     ]
    }
   ],
   "source": [
    "for y in my_students:\n",
    "    print(f\"keep up the good work, {y.title()}\")\n",
    "    print(f\"Im waiting for todays practice file. {y}.\\n\")\n",
    "print('Thank you all for joining todays Python Training session!')"
   ]
  },
  {
   "cell_type": "code",
   "execution_count": null,
   "metadata": {},
   "outputs": [],
   "source": []
  }
 ],
 "metadata": {
  "kernelspec": {
   "display_name": "Python 3",
   "language": "python",
   "name": "python3"
  },
  "language_info": {
   "codemirror_mode": {
    "name": "ipython",
    "version": 3
   },
   "file_extension": ".py",
   "mimetype": "text/x-python",
   "name": "python",
   "nbconvert_exporter": "python",
   "pygments_lexer": "ipython3",
   "version": "3.7.6"
  }
 },
 "nbformat": 4,
 "nbformat_minor": 4
}
