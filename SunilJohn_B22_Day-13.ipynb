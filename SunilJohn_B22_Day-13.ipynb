{
 "cells": [
  {
   "cell_type": "code",
   "execution_count": null,
   "metadata": {},
   "outputs": [],
   "source": [
    "#introduction to python classes:"
   ]
  },
  {
   "cell_type": "code",
   "execution_count": null,
   "metadata": {},
   "outputs": [],
   "source": [
    "class: \n",
    "    Class is a high level blue print of the programmm.\n",
    "\n",
    "method : \n",
    "    A function written inside a class \n",
    "\n",
    "attribute:\n",
    "    A variable written inside the class \n",
    "    \n",
    "self:\n",
    "    temperory placeholder for an object\n",
    "       \n",
    "object:\n",
    "    Object is an entry point to the class methods...\n",
    "       "
   ]
  },
  {
   "cell_type": "code",
   "execution_count": null,
   "metadata": {},
   "outputs": [],
   "source": [
    "# req:\n",
    "create a userclass..\n",
    "\n",
    "3 methods..\n",
    "\n",
    "createname\n",
    "displayname\n",
    "greetname\n"
   ]
  },
  {
   "cell_type": "code",
   "execution_count": 22,
   "metadata": {},
   "outputs": [],
   "source": [
    "class User: #class name.....# titlecase only\n",
    "    \"\"\"creating a userclass\"\"\"\n",
    "    \n",
    "    def createname(self,name): #Method\n",
    "        self.name = name #x.name='sunil' #attribute\n",
    "    \n",
    "    def displayname(self): #method\n",
    "        print(self.name)\n",
    "        \n",
    "    def greetname(self): #method\n",
    "        print(f\"Hello, welcome to the session {self.name}\")\n"
   ]
  },
  {
   "cell_type": "code",
   "execution_count": 16,
   "metadata": {},
   "outputs": [],
   "source": [
    "x = User() # object assignmet to class..."
   ]
  },
  {
   "cell_type": "code",
   "execution_count": 18,
   "metadata": {},
   "outputs": [],
   "source": [
    "x.createname('sunil')"
   ]
  },
  {
   "cell_type": "code",
   "execution_count": 19,
   "metadata": {},
   "outputs": [
    {
     "name": "stdout",
     "output_type": "stream",
     "text": [
      "sunil\n"
     ]
    }
   ],
   "source": [
    "x.displayname()"
   ]
  },
  {
   "cell_type": "code",
   "execution_count": 23,
   "metadata": {},
   "outputs": [
    {
     "name": "stdout",
     "output_type": "stream",
     "text": [
      "Hello, welcome to the session sunil\n"
     ]
    }
   ],
   "source": [
    "x.greetname()"
   ]
  },
  {
   "cell_type": "code",
   "execution_count": 25,
   "metadata": {},
   "outputs": [],
   "source": [
    "y = User()"
   ]
  },
  {
   "cell_type": "code",
   "execution_count": 26,
   "metadata": {},
   "outputs": [],
   "source": [
    "y.createname('john')"
   ]
  },
  {
   "cell_type": "code",
   "execution_count": 27,
   "metadata": {},
   "outputs": [
    {
     "name": "stdout",
     "output_type": "stream",
     "text": [
      "john\n"
     ]
    }
   ],
   "source": [
    "y.displayname()"
   ]
  },
  {
   "cell_type": "code",
   "execution_count": 28,
   "metadata": {},
   "outputs": [
    {
     "name": "stdout",
     "output_type": "stream",
     "text": [
      "Hello, welcome to the session john\n"
     ]
    }
   ],
   "source": [
    "y.greetname()"
   ]
  },
  {
   "cell_type": "code",
   "execution_count": null,
   "metadata": {},
   "outputs": [],
   "source": [
    "OOPS---> object oriented programming..."
   ]
  },
  {
   "cell_type": "code",
   "execution_count": null,
   "metadata": {},
   "outputs": [],
   "source": []
  },
  {
   "cell_type": "code",
   "execution_count": null,
   "metadata": {},
   "outputs": [],
   "source": [
    "#introduction to constructor: Special method /Magical method.\n",
    "\n",
    "How to define the constructor: def __init__(self,...)#doubleUnderscore...\n",
    "    \n",
    "Constructor will be actig as an initialization method...    "
   ]
  },
  {
   "cell_type": "code",
   "execution_count": null,
   "metadata": {},
   "outputs": [],
   "source": []
  }
 ],
 "metadata": {
  "kernelspec": {
   "display_name": "Python 3",
   "language": "python",
   "name": "python3"
  },
  "language_info": {
   "codemirror_mode": {
    "name": "ipython",
    "version": 3
   },
   "file_extension": ".py",
   "mimetype": "text/x-python",
   "name": "python",
   "nbconvert_exporter": "python",
   "pygments_lexer": "ipython3",
   "version": "3.7.6"
  }
 },
 "nbformat": 4,
 "nbformat_minor": 4
}
