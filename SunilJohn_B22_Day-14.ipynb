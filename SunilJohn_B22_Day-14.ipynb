{
 "cells": [
  {
   "cell_type": "code",
   "execution_count": null,
   "metadata": {},
   "outputs": [],
   "source": [
    "class\n",
    "\n",
    "method\n",
    "\n",
    "attribute\n",
    "\n",
    "self\n",
    "\n",
    "object\n"
   ]
  },
  {
   "cell_type": "code",
   "execution_count": null,
   "metadata": {},
   "outputs": [],
   "source": [
    "# create a dog class..( name, age)of the dog as a parameter\n",
    "#methods of a dog\n",
    "\n",
    "sit\n",
    "\n",
    "rollover\n",
    "\n",
    "jump\n",
    "\n",
    "sleep\n",
    "\n",
    "details"
   ]
  },
  {
   "cell_type": "code",
   "execution_count": 15,
   "metadata": {},
   "outputs": [],
   "source": [
    "class Dog:\n",
    "    \"\"\"creating a dog class and describing the methods\"\"\"\n",
    "    \n",
    "    def __init__(self,name,age): #constructor\n",
    "        self.name=name\n",
    "        self.age=age\n",
    "        print('this got executed automatically.')\n",
    "        \n",
    "    def sit(self):\n",
    "        print(f\"{self.name} is sitting\")\n",
    "        \n",
    "    def rollover(self):\n",
    "        print(f\"{self.name} is rolling over\")\n",
    "        \n",
    "    def jump(self):\n",
    "        print(f\"{self.name} is jumping on the command\")\n",
    "        \n",
    "    def sleep(self):\n",
    "        print(f\"{self.name} is now sleeping\")\n",
    "        \n",
    "    def details(self):\n",
    "        print(f\"{self.name} is the name of the dog\")\n",
    "        print(f\"{self.name} is of {self.age}'s years old!\")\n",
    "        \n",
    " \n",
    "        "
   ]
  },
  {
   "cell_type": "code",
   "execution_count": 29,
   "metadata": {},
   "outputs": [
    {
     "name": "stdout",
     "output_type": "stream",
     "text": [
      "this got executed automatically.\n",
      "this got executed automatically.\n"
     ]
    }
   ],
   "source": [
    "a=Dog('rex',2)\n",
    "b=Cat('tom',5)"
   ]
  },
  {
   "cell_type": "code",
   "execution_count": 3,
   "metadata": {},
   "outputs": [
    {
     "name": "stdout",
     "output_type": "stream",
     "text": [
      "rex is sitting\n"
     ]
    }
   ],
   "source": [
    "a.sit()"
   ]
  },
  {
   "cell_type": "code",
   "execution_count": 4,
   "metadata": {},
   "outputs": [
    {
     "name": "stdout",
     "output_type": "stream",
     "text": [
      "rex is rolling over\n"
     ]
    }
   ],
   "source": [
    "a.rollover()"
   ]
  },
  {
   "cell_type": "code",
   "execution_count": 5,
   "metadata": {},
   "outputs": [
    {
     "name": "stdout",
     "output_type": "stream",
     "text": [
      "rex is jumping on the command\n"
     ]
    }
   ],
   "source": [
    "a.jump()"
   ]
  },
  {
   "cell_type": "code",
   "execution_count": 6,
   "metadata": {},
   "outputs": [
    {
     "name": "stdout",
     "output_type": "stream",
     "text": [
      "rex is now sleeping\n"
     ]
    }
   ],
   "source": [
    "a.sleep()"
   ]
  },
  {
   "cell_type": "code",
   "execution_count": 7,
   "metadata": {},
   "outputs": [
    {
     "name": "stdout",
     "output_type": "stream",
     "text": [
      "rex is the name of the dog\n",
      "rex is of 2's years old!\n"
     ]
    }
   ],
   "source": [
    "a.details()"
   ]
  },
  {
   "cell_type": "code",
   "execution_count": 26,
   "metadata": {},
   "outputs": [],
   "source": [
    "class Cat:\n",
    "    \"\"\"creating a dog class and describing the methods\"\"\"\n",
    "    \n",
    "    def __init__(self,name,age): #constructor\n",
    "        self.name=name\n",
    "        self.age=age\n",
    "        print('this got executed automatically.')\n",
    "        \n",
    "    def sit(self):\n",
    "        print(f\"{self.name} is now sitting\")\n",
    "        \n",
    "    def roll_over(self):\n",
    "        print(f\"{self.name} is nowrolling over\")\n",
    "        \n",
    "    def jump(self):\n",
    "        print(f\"{self.name} is jumping on the command\")\n",
    "        \n",
    "    def sleep(self):\n",
    "        print(f\"{self.name} is now sleeping\")\n",
    "        \n",
    "    def details(self):\n",
    "        print(f\"{self.name} is the name of the cat\")\n",
    "        print(f\"{self.name} is of {self.age}'s years old!\")"
   ]
  },
  {
   "cell_type": "code",
   "execution_count": 24,
   "metadata": {},
   "outputs": [
    {
     "name": "stdout",
     "output_type": "stream",
     "text": [
      "this got executed automatically.\n"
     ]
    }
   ],
   "source": [
    "b=Cat('Tom',5)"
   ]
  },
  {
   "cell_type": "code",
   "execution_count": 25,
   "metadata": {},
   "outputs": [
    {
     "name": "stdout",
     "output_type": "stream",
     "text": [
      "Tom is the name of the dog\n",
      "Tom is of 5's years old!\n"
     ]
    }
   ],
   "source": [
    "b.details()"
   ]
  },
  {
   "cell_type": "code",
   "execution_count": 27,
   "metadata": {},
   "outputs": [
    {
     "name": "stdout",
     "output_type": "stream",
     "text": [
      "Tom is now sitting\n"
     ]
    }
   ],
   "source": [
    "b.sit()"
   ]
  },
  {
   "cell_type": "code",
   "execution_count": 36,
   "metadata": {},
   "outputs": [],
   "source": [
    "class Parrot:\n",
    "    \"\"\"creating a dog class and describing the methods\"\"\"\n",
    "    \n",
    "    def __init__(self,name,age): #constructor\n",
    "        self.name=name\n",
    "        self.age=age\n",
    "        print('this got executed automatically.')\n",
    "        \n",
    "    def eat(self):\n",
    "        print(f\"{self.name} is now eating\")\n",
    "           \n",
    "    def fly(self):\n",
    "        print(f\"{self.name} is now flying\")\n",
    "        \n",
    "    def sleep(self):\n",
    "        print(f\"{self.name} is now sleeping\")\n",
    "        \n",
    "    def details(self):\n",
    "        print(f\"{self.name} is the name of my Parrot\")\n",
    "        print(f\"{self.name} is {self.age}'s years old!\")"
   ]
  },
  {
   "cell_type": "code",
   "execution_count": 37,
   "metadata": {},
   "outputs": [
    {
     "name": "stdout",
     "output_type": "stream",
     "text": [
      "this got executed automatically.\n"
     ]
    }
   ],
   "source": [
    "c=Parrot('Alexa',3)"
   ]
  },
  {
   "cell_type": "code",
   "execution_count": 34,
   "metadata": {},
   "outputs": [
    {
     "name": "stdout",
     "output_type": "stream",
     "text": [
      "Alexa is now flying\n"
     ]
    }
   ],
   "source": [
    "c.fly()"
   ]
  },
  {
   "cell_type": "code",
   "execution_count": 38,
   "metadata": {},
   "outputs": [
    {
     "name": "stdout",
     "output_type": "stream",
     "text": [
      "Alexa is the name of my Parrot\n",
      "Alexa is 3's years old!\n"
     ]
    }
   ],
   "source": [
    "c.details()"
   ]
  },
  {
   "cell_type": "code",
   "execution_count": null,
   "metadata": {},
   "outputs": [],
   "source": []
  }
 ],
 "metadata": {
  "kernelspec": {
   "display_name": "Python 3",
   "language": "python",
   "name": "python3"
  },
  "language_info": {
   "codemirror_mode": {
    "name": "ipython",
    "version": 3
   },
   "file_extension": ".py",
   "mimetype": "text/x-python",
   "name": "python",
   "nbconvert_exporter": "python",
   "pygments_lexer": "ipython3",
   "version": "3.7.6"
  }
 },
 "nbformat": 4,
 "nbformat_minor": 4
}
